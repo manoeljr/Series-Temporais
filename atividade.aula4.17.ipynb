{
 "cells": [
  {
   "cell_type": "markdown",
   "metadata": {},
   "source": [
    "    Atividade\n",
    "        ● Selecione uma série temporal\n",
    "        ● Implemente 5 preditores (variando parâmetros ou modelos)\n",
    "        ● A combinação é melhor do que os preditores individuais? Em que proporção?\n",
    "            ○ Utilize inicialmente a média artimética simples, mas depois experimente o uso da média winsorizada"
   ]
  },
  {
   "cell_type": "code",
   "execution_count": 1,
   "metadata": {},
   "outputs": [],
   "source": [
    "import matplotlib.pyplot as plt\n",
    "import pandas as pd\n",
    "import numpy as np\n",
    "import warnings\n",
    "warnings.filterwarnings('ignore')\n",
    "\n",
    "from sklearn.svm import SVR\n",
    "from sklearn import metrics\n",
    "from scipy.stats.mstats import winsorize\n",
    "from sklearn.preprocessing import StandardScaler\n",
    "from sklearn.linear_model import LogisticRegression\n",
    "from sklearn.pipeline import Pipeline\n",
    "from sklearn.model_selection import train_test_split\n",
    "%matplotlib inline"
   ]
  },
  {
   "cell_type": "code",
   "execution_count": 2,
   "metadata": {},
   "outputs": [],
   "source": [
    "def winsor_mean(lista):\n",
    "    lista.sort()\n",
    "    lista_nova = [x for x in lista if x != lista[0] and x != lista[-1]]\n",
    "    return np.mean(lista_nova)"
   ]
  },
  {
   "cell_type": "code",
   "execution_count": 3,
   "metadata": {},
   "outputs": [],
   "source": [
    "def series_to_supervised(data, n_in=1, n_out=1, dropnan=True):\n",
    "    n_vars = 1 if type(data) is list else data.shape[1]\n",
    "    df = pd.DataFrame(data)\n",
    "    cols, names = list(), list()\n",
    "    # input sequence (t-n, ... t-1)\n",
    "    for i in range(n_in, 0, -1):\n",
    "        cols.append(df.shift(i))\n",
    "        names += [('var%d(t-%d)' % (j+1, i)) for j in range(n_vars)]\n",
    "    # forecast sequence (t, t+1, ... t+n)\n",
    "    for i in range(0, n_out):\n",
    "        cols.append(df.shift(-i))\n",
    "        if i == 0:\n",
    "            names += [('var%d(t)' % (j+1)) for j in range(n_vars)]\n",
    "        else:\n",
    "            names += [('var%d(t+%d)' % (j+1, i)) for j in range(n_vars)]\n",
    "    # put it all together\n",
    "    agg = pd.concat(cols, axis=1)\n",
    "    agg.columns = names\n",
    "    # drop rows with NaN values\n",
    "    if dropnan:\n",
    "        agg.dropna(inplace=True)\n",
    "    return agg"
   ]
  },
  {
   "cell_type": "code",
   "execution_count": 4,
   "metadata": {},
   "outputs": [],
   "source": [
    "def metricas(y_test, predict):\n",
    "    return metrics.mean_absolute_error(y_test, predict)"
   ]
  },
  {
   "cell_type": "code",
   "execution_count": 5,
   "metadata": {},
   "outputs": [],
   "source": [
    "pip_LogisticRegression = Pipeline([\n",
    "    ('scaler',StandardScaler()),\n",
    "    ('clf', LogisticRegression())\n",
    "])"
   ]
  },
  {
   "cell_type": "code",
   "execution_count": 6,
   "metadata": {},
   "outputs": [],
   "source": [
    "pip_SVR = Pipeline([\n",
    "    ('scaler', StandardScaler()),\n",
    "    ('clf', SVR(kernel= 'linear',C=0.1,gamma=0.0001))\n",
    "])"
   ]
  },
  {
   "cell_type": "code",
   "execution_count": 7,
   "metadata": {},
   "outputs": [],
   "source": [
    "pip_SVR_parametro = Pipeline([\n",
    "    ('scaler', StandardScaler()),\n",
    "    ('clf', SVR(kernel= 'rbf',C=1,gamma=0.001)) \n",
    "])"
   ]
  },
  {
   "cell_type": "code",
   "execution_count": 8,
   "metadata": {},
   "outputs": [],
   "source": [
    "pip_SVR_parametro1 = Pipeline([\n",
    "    ('scaler', StandardScaler()),\n",
    "    ('clf', SVR(kernel= 'poly',C=10,gamma=0.01))\n",
    "])"
   ]
  },
  {
   "cell_type": "code",
   "execution_count": 9,
   "metadata": {},
   "outputs": [],
   "source": [
    "pip_SVR_parametro2 = Pipeline([\n",
    "    ('scaler', StandardScaler()),\n",
    "    ('clf', SVR(kernel= 'sigmoid',C=100,gamma=0.001))\n",
    "])"
   ]
  },
  {
   "cell_type": "code",
   "execution_count": 10,
   "metadata": {},
   "outputs": [],
   "source": [
    "dados = pd.read_csv('CSVs/AirPassengers.csv', sep=',', header=0, index_col='Month')"
   ]
  },
  {
   "cell_type": "code",
   "execution_count": 11,
   "metadata": {},
   "outputs": [],
   "source": [
    "janela = series_to_supervised(data=dados, n_in=3, n_out=12)\n",
    "y = janela['var1(t)']\n",
    "x = janela[['var1(t-3)', 'var1(t-2)', 'var1(t-1)']]"
   ]
  },
  {
   "cell_type": "code",
   "execution_count": 12,
   "metadata": {},
   "outputs": [],
   "source": [
    "x_train, x_test, y_train, y_test = train_test_split(x, y, test_size=0.3, random_state=0)"
   ]
  },
  {
   "cell_type": "markdown",
   "metadata": {},
   "source": [
    "                                      LogisticRegression\n",
    "   ========================================================================================================"
   ]
  },
  {
   "cell_type": "code",
   "execution_count": 13,
   "metadata": {},
   "outputs": [
    {
     "data": {
      "text/plain": [
       "Pipeline(memory=None,\n",
       "     steps=[('scaler', StandardScaler(copy=True, with_mean=True, with_std=True)), ('clf', LogisticRegression(C=1.0, class_weight=None, dual=False, fit_intercept=True,\n",
       "          intercept_scaling=1, max_iter=100, multi_class='ovr', n_jobs=1,\n",
       "          penalty='l2', random_state=None, solver='liblinear', tol=0.0001,\n",
       "          verbose=0, warm_start=False))])"
      ]
     },
     "execution_count": 13,
     "metadata": {},
     "output_type": "execute_result"
    }
   ],
   "source": [
    "pip_LogisticRegression.fit(x_train,y_train)"
   ]
  },
  {
   "cell_type": "code",
   "execution_count": 14,
   "metadata": {},
   "outputs": [],
   "source": [
    "predicao_logistic = pip_LogisticRegression.predict(x_test)"
   ]
  },
  {
   "cell_type": "code",
   "execution_count": 15,
   "metadata": {},
   "outputs": [
    {
     "name": "stdout",
     "output_type": "stream",
     "text": [
      "MAE: 51.15384615384615\n"
     ]
    }
   ],
   "source": [
    "print(\"MAE:\",metricas(y_test, predicao_logistic))"
   ]
  },
  {
   "cell_type": "markdown",
   "metadata": {},
   "source": [
    "                                             SRV\n",
    "  ============================================================================================================="
   ]
  },
  {
   "cell_type": "code",
   "execution_count": 16,
   "metadata": {},
   "outputs": [
    {
     "data": {
      "text/plain": [
       "Pipeline(memory=None,\n",
       "     steps=[('scaler', StandardScaler(copy=True, with_mean=True, with_std=True)), ('clf', SVR(C=0.1, cache_size=200, coef0=0.0, degree=3, epsilon=0.1, gamma=0.0001,\n",
       "  kernel='linear', max_iter=-1, shrinking=True, tol=0.001, verbose=False))])"
      ]
     },
     "execution_count": 16,
     "metadata": {},
     "output_type": "execute_result"
    }
   ],
   "source": [
    "pip_SVR.fit(x_train,y_train)"
   ]
  },
  {
   "cell_type": "code",
   "execution_count": 17,
   "metadata": {},
   "outputs": [],
   "source": [
    "predicao_svr = pip_SVR.predict(x_test)"
   ]
  },
  {
   "cell_type": "code",
   "execution_count": 18,
   "metadata": {},
   "outputs": [
    {
     "name": "stdout",
     "output_type": "stream",
     "text": [
      "MAE: 57.91862642313186\n"
     ]
    }
   ],
   "source": [
    "print(\"MAE:\",metricas(y_test,predicao_svr))"
   ]
  },
  {
   "cell_type": "code",
   "execution_count": 19,
   "metadata": {},
   "outputs": [
    {
     "data": {
      "text/plain": [
       "Pipeline(memory=None,\n",
       "     steps=[('scaler', StandardScaler(copy=True, with_mean=True, with_std=True)), ('clf', SVR(C=1, cache_size=200, coef0=0.0, degree=3, epsilon=0.1, gamma=0.001,\n",
       "  kernel='rbf', max_iter=-1, shrinking=True, tol=0.001, verbose=False))])"
      ]
     },
     "execution_count": 19,
     "metadata": {},
     "output_type": "execute_result"
    }
   ],
   "source": [
    "pip_SVR_parametro.fit(x_train, y_train)"
   ]
  },
  {
   "cell_type": "code",
   "execution_count": 20,
   "metadata": {},
   "outputs": [],
   "source": [
    "predicao_parametro = pip_SVR_parametro.predict(x_test)"
   ]
  },
  {
   "cell_type": "code",
   "execution_count": 21,
   "metadata": {},
   "outputs": [
    {
     "name": "stdout",
     "output_type": "stream",
     "text": [
      "MAE: 72.90072348050673\n"
     ]
    }
   ],
   "source": [
    "print(\"MAE:\",metricas(y_test,predicao_parametro))"
   ]
  },
  {
   "cell_type": "code",
   "execution_count": 22,
   "metadata": {},
   "outputs": [
    {
     "data": {
      "text/plain": [
       "Pipeline(memory=None,\n",
       "     steps=[('scaler', StandardScaler(copy=True, with_mean=True, with_std=True)), ('clf', SVR(C=10, cache_size=200, coef0=0.0, degree=3, epsilon=0.1, gamma=0.01,\n",
       "  kernel='poly', max_iter=-1, shrinking=True, tol=0.001, verbose=False))])"
      ]
     },
     "execution_count": 22,
     "metadata": {},
     "output_type": "execute_result"
    }
   ],
   "source": [
    "pip_SVR_parametro1.fit(x_train, y_train)"
   ]
  },
  {
   "cell_type": "code",
   "execution_count": 23,
   "metadata": {},
   "outputs": [],
   "source": [
    "predicao_parametro1 = pip_SVR_parametro1.predict(x_test)"
   ]
  },
  {
   "cell_type": "code",
   "execution_count": 24,
   "metadata": {},
   "outputs": [
    {
     "name": "stdout",
     "output_type": "stream",
     "text": [
      "MAE: 73.17173824953727\n"
     ]
    }
   ],
   "source": [
    "print(\"MAE:\",metricas(y_test, predicao_parametro1))"
   ]
  },
  {
   "cell_type": "code",
   "execution_count": 25,
   "metadata": {},
   "outputs": [
    {
     "data": {
      "text/plain": [
       "Pipeline(memory=None,\n",
       "     steps=[('scaler', StandardScaler(copy=True, with_mean=True, with_std=True)), ('clf', SVR(C=100, cache_size=200, coef0=0.0, degree=3, epsilon=0.1, gamma=0.001,\n",
       "  kernel='sigmoid', max_iter=-1, shrinking=True, tol=0.001, verbose=False))])"
      ]
     },
     "execution_count": 25,
     "metadata": {},
     "output_type": "execute_result"
    }
   ],
   "source": [
    "pip_SVR_parametro2.fit(x_train, y_train)"
   ]
  },
  {
   "cell_type": "code",
   "execution_count": 26,
   "metadata": {},
   "outputs": [],
   "source": [
    "predicao_parametro2 = pip_SVR_parametro2.predict(x_test)"
   ]
  },
  {
   "cell_type": "code",
   "execution_count": 27,
   "metadata": {},
   "outputs": [
    {
     "name": "stdout",
     "output_type": "stream",
     "text": [
      "MAE: 57.918737410337904\n"
     ]
    }
   ],
   "source": [
    "print(\"MAE:\",metricas(y_test, predicao_parametro2))"
   ]
  },
  {
   "cell_type": "code",
   "execution_count": 28,
   "metadata": {},
   "outputs": [
    {
     "name": "stdout",
     "output_type": "stream",
     "text": [
      "MAE Média Simples =  53.244811509488514\n"
     ]
    }
   ],
   "source": [
    "media_simples = []\n",
    "for media in range(len(y_test)):\n",
    "    media_simples.append(np.mean([predicao_logistic[media],predicao_svr[media], \n",
    "                                  predicao_parametro[media],predicao_parametro1[media],predicao_parametro2[media]])\n",
    "                        )\n",
    "    \n",
    "mae_media_simples = metrics.mean_absolute_error(media_simples, y_test)\n",
    "print('MAE Média Simples = ', mae_media_simples)"
   ]
  },
  {
   "cell_type": "code",
   "execution_count": 52,
   "metadata": {},
   "outputs": [
    {
     "name": "stdout",
     "output_type": "stream",
     "text": [
      "Média Winsorizada 244.84370092969195\n"
     ]
    }
   ],
   "source": [
    "winsore = winsorize([predicao_logistic,\n",
    "                     predicao_svr,\n",
    "                     predicao_parametro,\n",
    "                     predicao_parametro1,\n",
    "                     predicao_parametro2])\n",
    "media_winsorizada = np.mean(winsore)\n",
    "print(\"Média Winsorizada\",media_winsorizada)"
   ]
  },
  {
   "cell_type": "code",
   "execution_count": 57,
   "metadata": {},
   "outputs": [],
   "source": [
    "dados_comparacao = {\n",
    "    'MODELO':['Logistic Regression', 'SVR', 'SVR1', 'SVR2', 'SVR3','MEDIA SIMPLES','MEDIA WINSORIZADA'],\n",
    "    'MAE':[metricas(y_test, predicao_logistic),\n",
    "           metricas(y_test,predicao_svr),\n",
    "           metricas(y_test,predicao_parametro),\n",
    "           metricas(y_test, predicao_parametro1),\n",
    "           metricas(y_test, predicao_parametro2),\n",
    "           mae_media_simples,\n",
    "           media_winsorizada],\n",
    "    'Prop Média Simples':[metricas(y_test, predicao_logistic)/mae_media_simples,\n",
    "                     metricas(y_test,predicao_svr)/mae_media_simples,\n",
    "                     metricas(y_test,predicao_parametro)/mae_media_simples,\n",
    "                     metricas(y_test, predicao_parametro1)/mae_media_simples,\n",
    "                     metricas(y_test, predicao_parametro2)/mae_media_simples,\n",
    "                     media_winsorizada/mae_media_simples,media_winsorizada/mae_media_simples],\n",
    "    'Média Winsorizada':[metricas(y_test, predicao_logistic)/media_winsorizada,\n",
    "                         metricas(y_test,predicao_svr)/media_winsorizada,\n",
    "                         metricas(y_test,predicao_parametro)/media_winsorizada,\n",
    "                         metricas(y_test, predicao_parametro1)/media_winsorizada,\n",
    "                         metricas(y_test, predicao_parametro2)/media_winsorizada,\n",
    "                         mae_media_simples/media_winsorizada,mae_media_simples/media_winsorizada]\n",
    "}\n",
    "df_comparacao = pd.DataFrame(data=dados_comparacao)"
   ]
  },
  {
   "cell_type": "code",
   "execution_count": 58,
   "metadata": {},
   "outputs": [
    {
     "data": {
      "text/html": [
       "<div>\n",
       "<style scoped>\n",
       "    .dataframe tbody tr th:only-of-type {\n",
       "        vertical-align: middle;\n",
       "    }\n",
       "\n",
       "    .dataframe tbody tr th {\n",
       "        vertical-align: top;\n",
       "    }\n",
       "\n",
       "    .dataframe thead th {\n",
       "        text-align: right;\n",
       "    }\n",
       "</style>\n",
       "<table border=\"1\" class=\"dataframe\">\n",
       "  <thead>\n",
       "    <tr style=\"text-align: right;\">\n",
       "      <th></th>\n",
       "      <th>MODELO</th>\n",
       "      <th>MAE</th>\n",
       "      <th>Prop Média Simples</th>\n",
       "      <th>Média Winsorizada</th>\n",
       "    </tr>\n",
       "  </thead>\n",
       "  <tbody>\n",
       "    <tr>\n",
       "      <th>0</th>\n",
       "      <td>Logistic Regression</td>\n",
       "      <td>51.153846</td>\n",
       "      <td>0.960729</td>\n",
       "      <td>0.208924</td>\n",
       "    </tr>\n",
       "    <tr>\n",
       "      <th>1</th>\n",
       "      <td>SVR</td>\n",
       "      <td>57.918626</td>\n",
       "      <td>1.087780</td>\n",
       "      <td>0.236553</td>\n",
       "    </tr>\n",
       "    <tr>\n",
       "      <th>2</th>\n",
       "      <td>SVR1</td>\n",
       "      <td>72.900723</td>\n",
       "      <td>1.369161</td>\n",
       "      <td>0.297744</td>\n",
       "    </tr>\n",
       "    <tr>\n",
       "      <th>3</th>\n",
       "      <td>SVR2</td>\n",
       "      <td>73.171738</td>\n",
       "      <td>1.374251</td>\n",
       "      <td>0.298851</td>\n",
       "    </tr>\n",
       "    <tr>\n",
       "      <th>4</th>\n",
       "      <td>SVR3</td>\n",
       "      <td>57.918737</td>\n",
       "      <td>1.087782</td>\n",
       "      <td>0.236554</td>\n",
       "    </tr>\n",
       "    <tr>\n",
       "      <th>5</th>\n",
       "      <td>MEDIA SIMPLES</td>\n",
       "      <td>53.244812</td>\n",
       "      <td>4.598452</td>\n",
       "      <td>0.217464</td>\n",
       "    </tr>\n",
       "    <tr>\n",
       "      <th>6</th>\n",
       "      <td>MEDIA WINSORIZADA</td>\n",
       "      <td>244.843701</td>\n",
       "      <td>4.598452</td>\n",
       "      <td>0.217464</td>\n",
       "    </tr>\n",
       "  </tbody>\n",
       "</table>\n",
       "</div>"
      ],
      "text/plain": [
       "                MODELO         MAE  Prop Média Simples  Média Winsorizada\n",
       "0  Logistic Regression   51.153846            0.960729           0.208924\n",
       "1                  SVR   57.918626            1.087780           0.236553\n",
       "2                 SVR1   72.900723            1.369161           0.297744\n",
       "3                 SVR2   73.171738            1.374251           0.298851\n",
       "4                 SVR3   57.918737            1.087782           0.236554\n",
       "5        MEDIA SIMPLES   53.244812            4.598452           0.217464\n",
       "6    MEDIA WINSORIZADA  244.843701            4.598452           0.217464"
      ]
     },
     "execution_count": 58,
     "metadata": {},
     "output_type": "execute_result"
    }
   ],
   "source": [
    "df_comparacao"
   ]
  },
  {
   "cell_type": "code",
   "execution_count": null,
   "metadata": {},
   "outputs": [],
   "source": []
  }
 ],
 "metadata": {
  "kernelspec": {
   "display_name": "Python 3",
   "language": "python",
   "name": "python3"
  },
  "language_info": {
   "codemirror_mode": {
    "name": "ipython",
    "version": 3
   },
   "file_extension": ".py",
   "mimetype": "text/x-python",
   "name": "python",
   "nbconvert_exporter": "python",
   "pygments_lexer": "ipython3",
   "version": "3.6.6"
  }
 },
 "nbformat": 4,
 "nbformat_minor": 2
}
